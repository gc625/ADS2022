{
 "cells": [
  {
   "cell_type": "markdown",
   "id": "77c6f8b5",
   "metadata": {},
   "source": [
    "## Data Structures and Algorithms \n",
    "### Lecture 1 (Jan 17, 2022)"
   ]
  },
  {
   "cell_type": "markdown",
   "id": "8a44c51f",
   "metadata": {},
   "source": [
    "Two concerns in ADS:\n",
    "1. Deisgning clever algs to solve problem\n",
    "2. proving that algorithms are correct and satisfy time bounds\n",
    "\n",
    "Data Structures and Algorithms\n",
    "1. Divide and Conquer\n",
    "2. Greedy\n",
    "3. Dynamic programming"
   ]
  },
  {
   "cell_type": "markdown",
   "id": "80d52b57",
   "metadata": {},
   "source": [
    "## Running Times\n",
    "**Worst Case Running Time**: (of an aglorithm $A$) is the function $T_A:\\mathbb{N}\\to\\mathbb{N}$ where $T_A(n)$ is the maximum nubmer of computation steps performed by $A$ on an input of size $n$\n",
    "\n",
    "**Average-Case Running Time**: (of an aglorithm $A$) is the function\n",
    "$AVTA : \\mathbb{N}\\to \\mathbb{N}$ where $AVTA(n)$ is the average number of computation steps performed by $A$ on an input of size $n$.\n",
    "\n",
    "\n",
    "\n",
    "\n",
    "\n",
    "\n",
    "\n",
    "\n",
    "\n",
    "\n"
   ]
  },
  {
   "cell_type": "markdown",
   "id": "24fd23c6",
   "metadata": {},
   "source": [
    "## Bounds\n",
    "Given a problem, a function $T(n)$ is an: \n",
    "\n",
    "**Upper Bound:** If there is an algorithm which solves the problem\n",
    "and has worst-case running time at most $T(n)$.\n",
    "\n",
    "**Average-case bound:** If there is an algorithm which solves the\n",
    "problem and has average-case running time at\n",
    "most T(n).\n",
    "\n",
    "**Lower Bound:** If every algorithm which solves the problem\n",
    "must use at least $T(n)$ time on some instance of\n",
    "size n for infinitely many n."
   ]
  },
  {
   "cell_type": "markdown",
   "id": "39a03f0d",
   "metadata": {},
   "source": [
    "## Power-REM algorithms:\n",
    "Problem: Remainder of a power.\n",
    "\n",
    "Input: Integers $a, n, m$ with $n \\geq 1, m > 1$.\n",
    "\n",
    "Output: The remainder of $a^n$ divided by $m$, i.e., $a^n \\text{ mod } m$\n",
    "\n"
   ]
  },
  {
   "cell_type": "markdown",
   "id": "e5b4fd2d",
   "metadata": {},
   "source": [
    "#### Power-REM1:\n",
    "- Real world: integer overflow even for small $a$, $m$ and\n",
    "moderate $n$.\n",
    "- Even without overflow numbers become needlessly large."
   ]
  },
  {
   "cell_type": "code",
   "execution_count": 59,
   "id": "94aaffa6",
   "metadata": {},
   "outputs": [],
   "source": [
    "def power_rem1(a,n,m):\n",
    "    r = a\n",
    "    r_computed = [r] # to display the computed values\n",
    "    for j in range(2,n+1):\n",
    "        r = r*a\n",
    "        r_computed.append(r) \n",
    "        \n",
    "    print(r_computed)\n",
    "    return r%m\n",
    "\n"
   ]
  },
  {
   "cell_type": "code",
   "execution_count": 60,
   "id": "7ff7c0a4",
   "metadata": {},
   "outputs": [
    {
     "name": "stdout",
     "output_type": "stream",
     "text": [
      "[2, 4, 8, 16, 32, 64, 128, 256, 512, 1024]\n"
     ]
    },
    {
     "data": {
      "text/plain": [
       "1"
      ]
     },
     "execution_count": 60,
     "metadata": {},
     "output_type": "execute_result"
    }
   ],
   "source": [
    "power_rem1(2,10,3)"
   ]
  },
  {
   "cell_type": "markdown",
   "id": "3c3fbc9e",
   "metadata": {},
   "source": [
    "How can we improve this algorithm?\n",
    "\n",
    "$(x\\cdot y)\\text{mod }m =[(x\\text{mod }m)(y\\text{mod }m) ]$"
   ]
  },
  {
   "cell_type": "markdown",
   "id": "eb18c4ad",
   "metadata": {},
   "source": [
    "#### Power-REM2\n",
    "- No integer overflow (unless $m$ large).\n",
    "- Arithmetic more efficient — numbers kept small"
   ]
  },
  {
   "cell_type": "code",
   "execution_count": 57,
   "id": "01258c41",
   "metadata": {},
   "outputs": [],
   "source": [
    "def power_rem2(a,n,m):\n",
    "    x = a%m\n",
    "    r = x \n",
    "    r_computed = [r] # to display the computed values\n",
    "    for j in range(2,n+1):\n",
    "        r = r*x%m\n",
    "        r_computed.append(r)\n",
    "    print(r_computed) \n",
    "    return r"
   ]
  },
  {
   "cell_type": "code",
   "execution_count": 58,
   "id": "6d7fcc46",
   "metadata": {},
   "outputs": [
    {
     "name": "stdout",
     "output_type": "stream",
     "text": [
      "[2, 1, 2, 1, 2, 1, 2, 1, 2, 1]\n"
     ]
    },
    {
     "data": {
      "text/plain": [
       "1"
      ]
     },
     "execution_count": 58,
     "metadata": {},
     "output_type": "execute_result"
    }
   ],
   "source": [
    "power_rem2(2,10,3)"
   ]
  },
  {
   "cell_type": "markdown",
   "id": "d14223f6",
   "metadata": {},
   "source": [
    "#### Power-REM3:\n",
    "- No integer overflow (unless $a$, $m$ large), nums kept small.\n",
    "- Number of arithmetic operations even less."
   ]
  },
  {
   "cell_type": "code",
   "execution_count": 65,
   "id": "dff7ab51",
   "metadata": {},
   "outputs": [],
   "source": [
    "def power_rem3(a,n,m):\n",
    "    if(n == 1):\n",
    "        print(a%m)\n",
    "        return a%m\n",
    "    elif(n%2==0):\n",
    "        r = power_rem3(a,n/2,m)\n",
    "        print(r**2%m)\n",
    "        return (r**2)%m\n",
    "    else:\n",
    "        r = power_rem3(a,(n-1)/2,m)\n",
    "        return (r**2)%m * (a%m)\n",
    "    "
   ]
  },
  {
   "cell_type": "code",
   "execution_count": 66,
   "id": "8ced3d39",
   "metadata": {
    "scrolled": false
   },
   "outputs": [
    {
     "name": "stdout",
     "output_type": "stream",
     "text": [
      "2\n",
      "1\n",
      "2\n",
      "1\n"
     ]
    },
    {
     "data": {
      "text/plain": [
       "1"
      ]
     },
     "execution_count": 66,
     "metadata": {},
     "output_type": "execute_result"
    }
   ],
   "source": [
    "power_rem3(2,10,3)"
   ]
  },
  {
   "cell_type": "markdown",
   "id": "484dee3b",
   "metadata": {},
   "source": [
    "**Reading**\n",
    "Chapters 1, 2.1-2.2\n",
    "\n",
    "Problems:\n",
    "\n",
    "1. analyze 3 algs\n",
    "\n",
    "2. ex. 1.2-2, p13 of \\[CLRS\\] 1.4-1 p17\n",
    "\n",
    "3. ex 1.2-3, p13 of \\[CLRS\\] 1.4-2 p17"
   ]
  },
  {
   "cell_type": "code",
   "execution_count": null,
   "id": "212b0531",
   "metadata": {},
   "outputs": [],
   "source": []
  }
 ],
 "metadata": {
  "kernelspec": {
   "display_name": "Python 3 (ipykernel)",
   "language": "python",
   "name": "python3"
  },
  "language_info": {
   "codemirror_mode": {
    "name": "ipython",
    "version": 3
   },
   "file_extension": ".py",
   "mimetype": "text/x-python",
   "name": "python",
   "nbconvert_exporter": "python",
   "pygments_lexer": "ipython3",
   "version": "3.9.7"
  }
 },
 "nbformat": 4,
 "nbformat_minor": 5
}
